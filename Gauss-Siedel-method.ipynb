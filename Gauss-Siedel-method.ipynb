{
 "cells": [
  {
   "cell_type": "markdown",
   "metadata": {},
   "source": [
    "<b>Guass Siedel method</b>"
   ]
  },
  {
   "cell_type": "code",
   "execution_count": 33,
   "metadata": {},
   "outputs": [],
   "source": [
    "import numpy as np"
   ]
  },
  {
   "cell_type": "code",
   "execution_count": 47,
   "metadata": {},
   "outputs": [],
   "source": [
    "def checkDiagnolDominant(a):\n",
    "    # Find diagonal coefficients\n",
    "    diag = np.diag(np.abs(a)) \n",
    "\n",
    "    # Find row sum without diagonal\n",
    "    off_diag = np.sum(np.abs(a), axis=1) - diag \n",
    "\n",
    "    if np.all(diag > off_diag):\n",
    "        print('matrix is diagonally dominant')\n",
    "        return True\n",
    "    else:\n",
    "        print('NOT diagonally dominant')\n",
    "        return False"
   ]
  },
  {
   "cell_type": "code",
   "execution_count": 68,
   "metadata": {},
   "outputs": [],
   "source": [
    "def gauss_seidel(A, b, tolerance=0.01, max_iterations=10000):\n",
    "    \n",
    "    x = np.zeros_like(b, dtype=np.float)\n",
    "    \n",
    "    #if checkDiagnolDominant(a) == False:\n",
    "    #     return False\n",
    "    \n",
    "    #Iterate\n",
    "    for k in range(max_iterations):\n",
    "        \n",
    "        x_old  = x.copy()\n",
    "        \n",
    "        #Loop over rows\n",
    "        for i in range(A.shape[0]):\n",
    "            x[i] = (b[i] - np.dot(A[i,:i], x[:i]) - np.dot(A[i,(i+1):], x_old[(i+1):])) / A[i ,i]\n",
    "            \n",
    "        print(x[0],\" \", x[1], \" \", x[2])\n",
    "            \n",
    "        #Stop condition \n",
    "        if np.linalg.norm(x - x_old, ord=np.inf) / np.linalg.norm(x, ord=np.inf) < tolerance:\n",
    "            break\n",
    "            \n",
    "    return x"
   ]
  },
  {
   "cell_type": "code",
   "execution_count": 69,
   "metadata": {},
   "outputs": [
    {
     "name": "stdout",
     "output_type": "stream",
     "text": [
      "Input matrix :  [[4.6766 2.0945 6.2165]\n",
      " [7.0118 8.1519 5.4858]\n",
      " [7.4188 1.8828 0.9499]]\n",
      "freq: [[6.6613]\n",
      " [5.9195]\n",
      " [2.7015]]\n",
      "======\n",
      "[0.71542262]   [0.06690817]   [-0.26520657]\n",
      "[0.87743717]   [0.09053137]   [-0.38620053]\n",
      "[0.95290491]   [0.10050233]   [-0.44237174]\n",
      "[0.98816473]   [0.10501492]   [-0.46858921]\n",
      "[1.00465375]   [0.10710464]   [-0.48084587]\n",
      "[1.01236685]   [0.10807925]   [-0.48657866]\n"
     ]
    },
    {
     "data": {
      "text/plain": [
       "array([[ 1.01236685],\n",
       "       [ 0.10807925],\n",
       "       [-0.48657866]])"
      ]
     },
     "execution_count": 69,
     "metadata": {},
     "output_type": "execute_result"
    }
   ],
   "source": [
    "x = [0, 0, 0]                        \n",
    "#a = np.array([[4, 1, 2],[3, 5, 1],[1, 1, 3]])\n",
    "#b = np.array([4,7,3])\n",
    "\n",
    "a = np.random.uniform(0, 9,  size=(3,3))\n",
    "a = a*10000//1/10000\n",
    "b = np.random.uniform(0, 9,  size=(3,1))\n",
    "b = b*10000//1/10000\n",
    "print(\"Input matrix : \",a)\n",
    "print(\"freq:\", b)\n",
    "print(\"======\")\n",
    "#generate diagnolly dominant\n",
    "for i in range(a.shape[0]):\n",
    "    d = a[i][i]\n",
    "    a[i][i] = sum(a[i]) - d + 1\n",
    "gauss_seidel(a,b)\n"
   ]
  },
  {
   "cell_type": "code",
   "execution_count": null,
   "metadata": {},
   "outputs": [],
   "source": []
  }
 ],
 "metadata": {
  "kernelspec": {
   "display_name": "Python 3",
   "language": "python",
   "name": "python3"
  },
  "language_info": {
   "codemirror_mode": {
    "name": "ipython",
    "version": 3
   },
   "file_extension": ".py",
   "mimetype": "text/x-python",
   "name": "python",
   "nbconvert_exporter": "python",
   "pygments_lexer": "ipython3",
   "version": "3.8.5"
  }
 },
 "nbformat": 4,
 "nbformat_minor": 4
}
