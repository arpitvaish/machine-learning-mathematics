{
 "cells": [
  {
   "cell_type": "markdown",
   "metadata": {},
   "source": [
    "<b>Guass-Jacobi-Implementation</b>"
   ]
  },
  {
   "cell_type": "code",
   "execution_count": 5,
   "metadata": {},
   "outputs": [],
   "source": [
    "import numpy as np"
   ]
  },
  {
   "cell_type": "code",
   "execution_count": 27,
   "metadata": {},
   "outputs": [],
   "source": [
    "def jacobi(A, b, tolerance=1e-10, max_iterations=10000):\n",
    "    \n",
    "    x = np.zeros_like(b, dtype=np.float)\n",
    "    \n",
    "    T = A - np.diag(np.diagonal(A))\n",
    "    \n",
    "    if checkDiagnolDominant(a) == False:\n",
    "           return False\n",
    "    \n",
    "    for k in range(max_iterations):\n",
    "        \n",
    "        x_old  = x.copy()\n",
    "        \n",
    "        x[:] = (b - np.dot(T, x)) / np.diagonal(A)\n",
    "        \n",
    "        print(x)\n",
    "        \n",
    "        if np.linalg.norm(x - x_old, ord=np.inf) / np.linalg.norm(x, ord=np.inf) < tolerance:\n",
    "            break\n",
    "            \n",
    "    return x"
   ]
  },
  {
   "cell_type": "code",
   "execution_count": 28,
   "metadata": {},
   "outputs": [],
   "source": [
    "def checkDiagnolDominant(a):\n",
    "    # Find diagonal coefficients\n",
    "    diag = np.diag(np.abs(a)) \n",
    "\n",
    "    # Find row sum without diagonal\n",
    "    off_diag = np.sum(np.abs(a), axis=1) - diag \n",
    "\n",
    "    if np.all(diag > off_diag):\n",
    "        print('matrix is diagonally dominant')\n",
    "        return True\n",
    "    else:\n",
    "        print('NOT diagonally dominant')\n",
    "        return False"
   ]
  },
  {
   "cell_type": "code",
   "execution_count": 36,
   "metadata": {},
   "outputs": [
    {
     "name": "stdout",
     "output_type": "stream",
     "text": [
      "Input matrix :  [[4 1 2]\n",
      " [3 5 1]\n",
      " [1 1 3]] (3, 3)\n",
      "freq: [4 7 3] (3,)\n",
      "======\n",
      "matrix is diagonally dominant\n",
      "[1.  1.4 1. ]\n",
      "[0.15 0.6  0.2 ]\n",
      "[0.75 1.27 0.75]\n",
      "[0.3075     0.8        0.32666667]\n",
      "[0.63666667 1.15016667 0.63083333]\n",
      "[0.39704167 0.89183333 0.40438889]\n",
      "[0.57484722 1.08089722 0.570375  ]\n",
      "[0.44458819 0.94101667 0.44808519]\n",
      "[0.54070324 1.04363005 0.53813171]\n",
      "[0.47002663 0.96795171 0.4718889 ]\n",
      "[0.52206762 1.02360624 0.52067389]\n",
      "[0.4837615  0.98262465 0.48477538]\n",
      "[0.51195615 1.01278803 0.51120462]\n",
      "[0.49120069 0.99058539 0.49175194]\n",
      "[0.50647768 1.0069292  0.50607131]\n",
      "[0.49523205 0.99489913 0.49553104]\n",
      "[0.5035097  1.00375456 0.50328961]\n",
      "[0.49741655 0.99723626 0.49757858]\n",
      "[0.50190165 1.00203435 0.5017824 ]\n",
      "[0.49860021 0.99850253 0.498688  ]\n",
      "[0.50103037 1.00110227 0.50096575]\n",
      "[0.49924156 0.99918863 0.49928912]\n",
      "[0.50055828 1.00059724 0.50052327]\n",
      "[0.49958905 0.99956038 0.49961483]\n",
      "[0.50030249 1.0003236  0.50028352]\n",
      "[0.49977734 0.9997618  0.4997913 ]\n",
      "[0.5001639  1.00017534 0.50015362]\n",
      "[0.49987936 0.99987094 0.49988692]\n",
      "[0.50008881 1.000095   0.50008324]\n",
      "[0.49993463 0.99993007 0.49993873]\n",
      "[0.50004812 1.00005148 0.5000451 ]\n",
      "[0.49996458 0.99996211 0.4999668 ]\n",
      "[0.50002607 1.00002789 0.50002444]\n",
      "[0.49998081 0.99997947 0.49998201]\n",
      "[0.50001413 1.00001511 0.50001324]\n",
      "[0.4999896  0.99998888 0.49999025]\n",
      "[0.50000765 1.00000819 0.50000717]\n",
      "[0.49999437 0.99999397 0.49999472]\n",
      "[0.50000415 1.00000444 0.50000389]\n",
      "[0.49999695 0.99999673 0.49999714]\n",
      "[0.50000225 1.0000024  0.50000211]\n",
      "[0.49999835 0.99999823 0.49999845]\n",
      "[0.50000122 1.0000013  0.50000114]\n",
      "[0.4999991  0.99999904 0.49999916]\n",
      "[0.50000066 1.00000071 0.50000062]\n",
      "[0.49999951 0.99999948 0.49999954]\n",
      "[0.50000036 1.00000038 0.50000034]\n",
      "[0.49999974 0.99999972 0.49999975]\n",
      "[0.50000019 1.00000021 0.50000018]\n",
      "[0.49999986 0.99999985 0.49999987]\n",
      "[0.5000001  1.00000011 0.5000001 ]\n",
      "[0.49999992 0.99999992 0.49999993]\n",
      "[0.50000006 1.00000006 0.50000005]\n",
      "[0.49999996 0.99999996 0.49999996]\n",
      "[0.50000003 1.00000003 0.50000003]\n",
      "[0.49999998 0.99999998 0.49999998]\n",
      "[0.50000002 1.00000002 0.50000002]\n",
      "[0.49999999 0.99999999 0.49999999]\n",
      "[0.50000001 1.00000001 0.50000001]\n",
      "[0.49999999 0.99999999 0.49999999]\n",
      "[0.5        1.00000001 0.5       ]\n",
      "[0.5 1.  0.5]\n",
      "[0.5 1.  0.5]\n",
      "[0.5 1.  0.5]\n",
      "[0.5 1.  0.5]\n",
      "[0.5 1.  0.5]\n",
      "[0.5 1.  0.5]\n",
      "[0.5 1.  0.5]\n",
      "[0.5 1.  0.5]\n",
      "[0.5 1.  0.5]\n",
      "[0.5 1.  0.5]\n",
      "[0.5 1.  0.5]\n",
      "[0.5 1.  0.5]\n",
      "[0.5 1.  0.5]\n",
      "[0.5 1.  0.5]\n",
      "[0.5 1.  0.5]\n",
      "[0.5 1.  0.5]\n"
     ]
    },
    {
     "data": {
      "text/plain": [
       "array([0.5, 1. , 0.5])"
      ]
     },
     "execution_count": 36,
     "metadata": {},
     "output_type": "execute_result"
    }
   ],
   "source": [
    "x = [0, 0, 0]                        \n",
    "a = np.array([[4, 1, 2],[3, 5, 1],[1, 1, 3]])\n",
    "b = np.array([4,7,3])\n",
    "\n",
    "#a = np.random.uniform(0, 9,  size=(3,3))\n",
    "#a = a*1000//1/1000\n",
    "#b = np.random.uniform(0, 9,  size=(3,1))\n",
    "#b = b*1000//1/1000\n",
    "print(\"Input matrix : \",a, a.shape)\n",
    "print(\"freq:\", b, b.shape)\n",
    "print(\"======\")\n",
    "#generate diagnolly dominant\n",
    "for i in range(a.shape[0]):\n",
    "    d = a[i][i]\n",
    "    a[i][i] = sum(a[i]) - d + 1\n",
    "jacobi(a,b)"
   ]
  },
  {
   "cell_type": "code",
   "execution_count": null,
   "metadata": {},
   "outputs": [],
   "source": []
  }
 ],
 "metadata": {
  "kernelspec": {
   "display_name": "Python 3",
   "language": "python",
   "name": "python3"
  },
  "language_info": {
   "codemirror_mode": {
    "name": "ipython",
    "version": 3
   },
   "file_extension": ".py",
   "mimetype": "text/x-python",
   "name": "python",
   "nbconvert_exporter": "python",
   "pygments_lexer": "ipython3",
   "version": "3.8.5"
  }
 },
 "nbformat": 4,
 "nbformat_minor": 4
}
