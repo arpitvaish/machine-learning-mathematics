{
 "cells": [
  {
   "cell_type": "markdown",
   "metadata": {},
   "source": [
    "<b>Guass-Jacobi-Implementation</b>"
   ]
  },
  {
   "cell_type": "code",
   "execution_count": 2,
   "metadata": {},
   "outputs": [],
   "source": [
    "import numpy as np"
   ]
  },
  {
   "cell_type": "code",
   "execution_count": 20,
   "metadata": {},
   "outputs": [],
   "source": [
    "def jacobi(A, b, tolerance=1e-3, max_iterations=10000):\n",
    "    \n",
    "    x = np.zeros_like(b, dtype=np.float)\n",
    "    #A=np.array((A),dtype=float)\n",
    "    #b=np.array((b),dtype=float)\n",
    "    \n",
    "    T = A - np.diag(np.diagonal(A))\n",
    "    \n",
    "    if checkDiagnolDominant(a) == False:\n",
    "           return False\n",
    "    \n",
    "    for k in range(max_iterations):\n",
    "        \n",
    "        x_old  = x.copy()\n",
    "        \n",
    "        x[:] = (b - np.dot(T, x)) / np.diagonal(A)\n",
    "        \n",
    "       # print(x)\n",
    "        \n",
    "        if np.linalg.norm(x - x_old, ord=np.inf) / np.linalg.norm(x, ord=np.inf) < tolerance:\n",
    "            break\n",
    "            \n",
    "    return x"
   ]
  },
  {
   "cell_type": "code",
   "execution_count": 21,
   "metadata": {},
   "outputs": [],
   "source": [
    "def checkDiagnolDominant(a):\n",
    "    # Find diagonal coefficients\n",
    "    diag = np.diag(np.abs(a)) \n",
    "\n",
    "    # Find row sum without diagonal\n",
    "    off_diag = np.sum(np.abs(a), axis=1) - diag \n",
    "\n",
    "    if np.all(diag > off_diag):\n",
    "        print('matrix is diagonally dominant')\n",
    "        return True\n",
    "    else:\n",
    "        print('NOT diagonally dominant')\n",
    "        return False"
   ]
  },
  {
   "cell_type": "code",
   "execution_count": 28,
   "metadata": {},
   "outputs": [
    {
     "name": "stdout",
     "output_type": "stream",
     "text": [
      "Input matrix :  [[ 9.606   5.757   0.9407]\n",
      " [ 2.138   7.905   3.614 ]\n",
      " [-3.224   1.758  -7.956 ]]\n",
      "freq: [0.2431 1.8164 0.0231]\n",
      "======\n",
      "Input matrix :  [[ 9.606   5.757   0.9407]\n",
      " [ 2.138   7.905   3.614 ]\n",
      " [-3.224   1.758  -7.956 ]]\n",
      "freq: [0.2431 1.8164 0.0231]\n",
      "======\n",
      "matrix is diagonally dominant\n"
     ]
    },
    {
     "data": {
      "text/plain": [
       "array([-0.11487327,  0.21874807,  0.09196663])"
      ]
     },
     "execution_count": 28,
     "metadata": {},
     "output_type": "execute_result"
    }
   ],
   "source": [
    "x = [0, 0, 0]                        \n",
    "a = np.array([[9.606 ,5.757, 0.9407],[2.138, 7.905, 3.614],[-3.224, 1.758, -7.956]])\n",
    "b = np.array([0.2431,1.8164,0.0231])\n",
    "\n",
    "\n",
    "print(\"Input matrix : \",a)\n",
    "print(\"freq:\", b)\n",
    "print(\"======\")\n",
    "#make existing diagnolly dominant : only use when using random generator and not static matrix\n",
    "#for i in range(a.shape[0]):\n",
    "#    d = a[i][i]\n",
    "#    a[i][i] = sum(a[i]) - d + 1\n",
    "print(\"Input matrix : \",a)\n",
    "print(\"freq:\", b)\n",
    "print(\"======\")    \n",
    "jacobi(a,b)"
   ]
  },
  {
   "cell_type": "code",
   "execution_count": null,
   "metadata": {},
   "outputs": [],
   "source": []
  }
 ],
 "metadata": {
  "kernelspec": {
   "display_name": "Python 3",
   "language": "python",
   "name": "python3"
  },
  "language_info": {
   "codemirror_mode": {
    "name": "ipython",
    "version": 3
   },
   "file_extension": ".py",
   "mimetype": "text/x-python",
   "name": "python",
   "nbconvert_exporter": "python",
   "pygments_lexer": "ipython3",
   "version": "3.8.5"
  }
 },
 "nbformat": 4,
 "nbformat_minor": 4
}
