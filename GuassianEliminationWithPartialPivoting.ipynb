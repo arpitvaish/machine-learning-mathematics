{
 "cells": [
  {
   "cell_type": "markdown",
   "metadata": {},
   "source": [
    "<b> Guassian Elimination with Pivoting </b>"
   ]
  },
  {
   "cell_type": "code",
   "execution_count": 7,
   "metadata": {},
   "outputs": [],
   "source": [
    "import numpy as np"
   ]
  },
  {
   "cell_type": "code",
   "execution_count": 22,
   "metadata": {},
   "outputs": [],
   "source": [
    "def Cal_forward_elimination_pivot(D,g):\n",
    "    A=np.array((D),dtype=float)\n",
    "    f=np.array((g),dtype=float)\n",
    "    n = len(f)\n",
    "    for k in range(0,n-1):     # Loop through the columns of the matrix\n",
    "        \n",
    "        #if np.abs(A[i,i])==0:\n",
    "        m = k\n",
    "        for j in range(k+1,n):\n",
    "            if np.abs(A[m,k])<np.abs(A[j,k]):\n",
    "                m=j;\n",
    "        if A[m,k] == 0:\n",
    "            sys.exit(\"No unique solution exists\")\n",
    "        else:\n",
    "            A[[m,k]] = A[[k,m]]\n",
    "            f[[m,k]] = f[[k,m]]\n",
    "        \n",
    "        if A[n-1,n-1] == 0:\n",
    "            sys.exit(\"No unique solution exits\")\n",
    "            \n",
    "        else:            \n",
    "            for j in range(k+1,n):     # Loop through rows below diagonal for each column\n",
    "                m = A[j,k]/A[k,k]\n",
    "                A[j,:] = A[j,:] - m*A[k,:]\n",
    "                f[j] = f[j] - m*f[k]\n",
    "    return A,f"
   ]
  },
  {
   "cell_type": "code",
   "execution_count": 117,
   "metadata": {},
   "outputs": [],
   "source": [
    "def Cal_forward_elimination_pivot_with_rounding(D,g,precision):\n",
    "    A=np.array((D),dtype=float)\n",
    "    A=np.around(A, precision)\n",
    "    f=np.array((g),dtype=float)\n",
    "    f=np.around(f, precision)\n",
    "    n = len(f)\n",
    "    print (\"Input array:\")\n",
    "    print(\"main array: \",A)\n",
    "    print(\"frequeny\", f)\n",
    "   \n",
    "    \n",
    "    for k in range(0,n-1):     # Loop through the columns of the matrix\n",
    "        print(\"=============\")\n",
    "        print(\"Interation \", k)\n",
    "        #if np.abs(A[i,i])==0:\n",
    "        m = k\n",
    "        for j in range(k+1,n):\n",
    "            if np.abs(A[m,k])<np.abs(A[j,k]):\n",
    "                m=j;\n",
    "        if A[m,k] == 0:\n",
    "            sys.exit(\"No unique solution exists\")\n",
    "        else:\n",
    "            print(\"Found larger pivot value\")\n",
    "            print(\"Before swapping\")\n",
    "            print(\"main array: \",A)\n",
    "            print(\"frequeny\", f)\n",
    "            print\n",
    "            A[[m,k]] = A[[k,m]]\n",
    "            f[[m,k]] = f[[k,m]]\n",
    "            print(\"After swapping\")\n",
    "            print(\"main array: \",A)\n",
    "            print(\"frequeny\", f)\n",
    "            print\n",
    "      \n",
    "        \n",
    "        if A[n-1,n-1] == 0:\n",
    "            sys.exit(\"No unique solution exits\")\n",
    "            \n",
    "        else:            \n",
    "            for j in range(k+1,n):     # Loop through rows below diagonal for each column\n",
    "                m = A[j,k]/A[k,k]\n",
    "                A[j,:] = A[j,:] - m*A[k,:]\n",
    "                f[j] = f[j] - m*f[k]\n",
    "                A=np.around(A, precision)\n",
    "                f=np.around(f, precision)\n",
    "                print\n",
    "                print(\"R(\",j,\") - \",m,\"* R(\", k,\")\")\n",
    "                print\n",
    "                print(\"New value after row subtration=====\")\n",
    "                print(\"main array: \",A)\n",
    "                print(\"frequeny\", f)\n",
    "                print\n",
    "        print(\"=============\")\n",
    "        print('A = \\n%s and b = %s' % (A,f))\n",
    "        print(\"==========\")\n",
    "    return A,f"
   ]
  },
  {
   "cell_type": "code",
   "execution_count": 87,
   "metadata": {},
   "outputs": [],
   "source": [
    "def back_substitution(A,f):\n",
    "    n = f.size\n",
    "    x = np.zeros(n)             # Initialize the solution vector, x, to zero\n",
    "    x[n-1] = f[n-1]/A[n-1,n-1]    # Solve for last entry first\n",
    "    for i in range(n-2,-1,-1):      # Loop from the end to the beginning\n",
    "        sum_ = 0\n",
    "        for j in range(i+1,n):        # For known x values, sum and move to rhs\n",
    "            sum_ = sum_ + A[i,j]*x[j]\n",
    "        x[i] = (f[i] - sum_)/A[i,i]\n",
    "    return x"
   ]
  },
  {
   "cell_type": "code",
   "execution_count": 93,
   "metadata": {},
   "outputs": [],
   "source": [
    "def back_substitution_with_precision(A,f, precision):\n",
    "    n = f.size\n",
    "    x = np.zeros(n)             # Initialize the solution vector, x, to zero\n",
    "    x[n-1] = f[n-1]/A[n-1,n-1]    # Solve for last entry first\n",
    "    for i in range(n-2,-1,-1):      # Loop from the end to the beginning\n",
    "        sum_ = 0\n",
    "        for j in range(i+1,n):        # For known x values, sum and move to rhs\n",
    "            sum_ = sum_ + A[i,j]*x[j]\n",
    "        x[i] = np.around((f[i] - sum_)/A[i,i], precision)\n",
    "    return np.around(x,precision)"
   ]
  },
  {
   "cell_type": "code",
   "execution_count": 118,
   "metadata": {},
   "outputs": [
    {
     "name": "stdout",
     "output_type": "stream",
     "text": [
      "Input array:\n",
      "main array:  [[35.  3.]\n",
      " [89. 67.]]\n",
      "frequeny [83.  9.]\n",
      "=============\n",
      "Interation  0\n",
      "Found larger pivot value\n",
      "Before swapping\n",
      "main array:  [[35.  3.]\n",
      " [89. 67.]]\n",
      "frequeny [83.  9.]\n",
      "After swapping\n",
      "main array:  [[89. 67.]\n",
      " [35.  3.]]\n",
      "frequeny [ 9. 83.]\n",
      "R( 1 ) -  0.39325842696629215 * R( 0 )\n",
      "New value after row subtration=====\n",
      "main array:  [[ 89.        67.      ]\n",
      " [  0.       -23.348315]]\n",
      "frequeny [ 9.       79.460674]\n",
      "=============\n",
      "A = \n",
      "[[ 89.        67.      ]\n",
      " [  0.       -23.348315]] and b = [ 9.       79.460674]\n",
      "==========\n",
      "Answer :  [ 2.663138 -3.403272]\n"
     ]
    }
   ],
   "source": [
    "#A = np.random.randint(100, size=(2,2))\n",
    "#f = np.random.randint(100, size=(2,1))\n",
    "#A = np.array([[-3,6,-9],[1,-4,3],[2,5,-7]])\n",
    "#f = np.array([-46.725,19.571,-20.073])\n",
    "\n",
    "\n",
    "\n",
    "A = np.array([[35,3],[89,67]])\n",
    "f = np.array([83,9])\n",
    "\n",
    "\n",
    "#A = np.array([[0,6,13],[6,0,-8],[13,-8,0]])\n",
    "#f = np.array([137.86,-85.88,178.54])\n",
    "precision = 6\n",
    "B,g = Cal_forward_elimination_pivot_with_rounding(A,f,precision)\n",
    "x= back_substitution_with_precision(B,g, precision)\n",
    "print(\"Answer : \", x)"
   ]
  },
  {
   "cell_type": "code",
   "execution_count": null,
   "metadata": {},
   "outputs": [],
   "source": []
  }
 ],
 "metadata": {
  "kernelspec": {
   "display_name": "Python 3",
   "language": "python",
   "name": "python3"
  },
  "language_info": {
   "codemirror_mode": {
    "name": "ipython",
    "version": 3
   },
   "file_extension": ".py",
   "mimetype": "text/x-python",
   "name": "python",
   "nbconvert_exporter": "python",
   "pygments_lexer": "ipython3",
   "version": "3.8.5"
  }
 },
 "nbformat": 4,
 "nbformat_minor": 4
}
